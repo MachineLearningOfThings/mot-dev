{
 "cells": [
  {
   "cell_type": "code",
   "execution_count": 1,
   "metadata": {},
   "outputs": [],
   "source": [
    "# os, glob 경로나 파일 os 명령\n",
    "import os \n",
    "from glob import glob\n",
    "\n",
    "# PIL는 이미지를 load 할 때, numpy는 array \n",
    "from PIL import Image\n",
    "import numpy as np\n",
    "\n",
    "# 이미지 볼 때 \n",
    "import matplotlib.pyplot as plt\n",
    "# 아래에 magic function은 jupyter notebook에만 해당됩니다. \n",
    "# 이건 jupyter로 열면, 주피터 내부 열수 있게 하는 것 \n",
    "% matplotlib inline"
   ]
  },
  {
   "cell_type": "markdown",
   "metadata": {},
   "source": [
    "### 준비하기  \n",
    "데이터를 준비 할 때 저는 tensorflow나 다른데에서 예제로 제공해주는 그런 데이터 말고  \n",
    "png나 우리가 커스텀으로 다룰 데이터를 학습 모델에 input으로 넣을 파일을 만들겁니다. \n",
    "\n",
    "먼저 아래의 kaggle에서 데이터들 부터 다운 받자  \n",
    "https://www.kaggle.com/scolianni/mnistasjpg/data  "
   ]
  },
  {
   "cell_type": "markdown",
   "metadata": {},
   "source": [
    "![dir_tree_mnist](../assets/post_images/dir_tree_mnist.png)"
   ]
  },
  {
   "cell_type": "markdown",
   "metadata": {},
   "source": [
    "Kaggle에서 저 링크로 다운 받으면 mnistasjpg.zip 라는 파일을 받고 압축을 푼다.  \n",
    "압축을 풀고나면 그 안에 trainingSet.tar.gz 까지 풀어준다.  \n",
    "그럼 압축 푼 파일을 먼저 이 jupyter notebook 파일 또는 py 파일이랑 같은 경로에 'data/'라는 폴더를 만들어서 안에 넣는다.  \n",
    "\n",
    "정리하자면 아래와 같다  "
   ]
  },
  {
   "cell_type": "markdown",
   "metadata": {},
   "source": [
    "![mnist_download](../assets/post_images/mnist_download.png)"
   ]
  },
  {
   "cell_type": "markdown",
   "metadata": {},
   "source": [
    "그 안에 mnist_png 파일을 "
   ]
  },
  {
   "cell_type": "markdown",
   "metadata": {},
   "source": [
    "# 이미지 경로들 부르고, Label 얻기  \n",
    "\n",
    "이미지 데이터들이 저장된 파일 목록들을 불러와 경로들을 List로 저장하고  \n",
    "각 경로들을 통해 Label(Class)를 얻는다. "
   ]
  },
  {
   "cell_type": "code",
   "execution_count": 2,
   "metadata": {},
   "outputs": [
    {
     "data": {
      "text/plain": [
       "['.ipynb_checkpoints', '2018-05-12-input_data 만들기.ipynb']"
      ]
     },
     "execution_count": 2,
     "metadata": {},
     "output_type": "execute_result"
    }
   ],
   "source": [
    "os.listdir()  # 같은 경로 레벨에 있는 파일들의 목록을 보여준다. "
   ]
  },
  {
   "cell_type": "code",
   "execution_count": 4,
   "metadata": {},
   "outputs": [
    {
     "data": {
      "text/plain": [
       "['mnist_png', 'mnist_png.rar', 'train', 'train.7z', 'trainLabels.csv']"
      ]
     },
     "execution_count": 4,
     "metadata": {},
     "output_type": "execute_result"
    }
   ],
   "source": [
    "os.listdir('data/')  # 해당 경로 안에서의 폴더 목록을 list로 반환"
   ]
  },
  {
   "cell_type": "code",
   "execution_count": 5,
   "metadata": {},
   "outputs": [],
   "source": [
    "data_list = glob('data\\\\mnist_png\\\\training\\\\*\\\\*.png')  # 모든 경로들을 list로 반환"
   ]
  },
  {
   "cell_type": "code",
   "execution_count": 6,
   "metadata": {},
   "outputs": [
    {
     "data": {
      "text/plain": [
       "'data\\\\mnist_png\\\\training\\\\0\\\\1.png'"
      ]
     },
     "execution_count": 6,
     "metadata": {},
     "output_type": "execute_result"
    }
   ],
   "source": [
    "# 여기서 path를 하나 뽑고서 이것으로 이미지를 불러오고, Label도 불러올 것이다. \n",
    "path = data_list[0]\n",
    "path"
   ]
  },
  {
   "cell_type": "code",
   "execution_count": 7,
   "metadata": {},
   "outputs": [],
   "source": [
    "def get_label_from_path(path):\n",
    "    return int(path.split('\\\\')[-2])"
   ]
  },
  {
   "cell_type": "code",
   "execution_count": 8,
   "metadata": {},
   "outputs": [
    {
     "data": {
      "text/plain": [
       "('data\\\\mnist_png\\\\training\\\\0\\\\1.png', 0)"
      ]
     },
     "execution_count": 8,
     "metadata": {},
     "output_type": "execute_result"
    }
   ],
   "source": [
    "path, get_label_from_path(path)  # 제대로 뽑아졌는지 확인 "
   ]
  },
  {
   "cell_type": "markdown",
   "metadata": {},
   "source": [
    "다시 제대로 뽑아지는지 랜덤하게 넣어서 확인 해보자"
   ]
  },
  {
   "cell_type": "code",
   "execution_count": 9,
   "metadata": {},
   "outputs": [
    {
     "data": {
      "text/plain": [
       "('data\\\\mnist_png\\\\training\\\\1\\\\42015.png', 1)"
      ]
     },
     "execution_count": 9,
     "metadata": {},
     "output_type": "execute_result"
    }
   ],
   "source": [
    "rand_n = 9999  # <- 아무 숫자나 넣은 거다 \n",
    "\n",
    "path = data_list[rand_n]\n",
    "path, get_label_from_path(path)  # 제대로 뽑아졌는지 확인 "
   ]
  },
  {
   "cell_type": "markdown",
   "metadata": {},
   "source": [
    "## 이미지 불러오기 & Label - onehot-encoding 불러오기\n",
    "여기까지는 경로와 Label 이름을 뽑는 것이 제대로 확인이 되었다.  \n",
    "이제부터 그 경로와 Label명을 통해 one-encoding을 만들것이다. "
   ]
  },
  {
   "cell_type": "code",
   "execution_count": 10,
   "metadata": {},
   "outputs": [],
   "source": [
    "# path로 부터 Image 불러오기\n",
    "image = np.array(Image.open(path))"
   ]
  },
  {
   "cell_type": "code",
   "execution_count": 11,
   "metadata": {},
   "outputs": [],
   "source": [
    "def read_image(path):\n",
    "    image = np.array(Image.open(path))\n",
    "    # Channel 1을 살려주기 위해 reshape 해줌\n",
    "    return image.reshape(image.shape[0], image.shape[1], 1)"
   ]
  },
  {
   "cell_type": "code",
   "execution_count": 12,
   "metadata": {},
   "outputs": [],
   "source": [
    "# label 이름을 통해 onehot-encoding 하기 \n",
    "class_name = get_label_from_path(path)"
   ]
  },
  {
   "cell_type": "code",
   "execution_count": 13,
   "metadata": {},
   "outputs": [],
   "source": [
    "# 앞서 만들었던 get_label_from_path 함수를 통해 data_list에 있는 label 이름들을 list에 다 묶어준다\n",
    "# 더 쉬운 방법이 있지만, 굳이 함수를 통해 label 들을 얻는 것은 함수도 잘 작동하는지 확인함을 목적을 가지고 있다. \n",
    "\n",
    "label_name_list = []\n",
    "for path in data_list:\n",
    "    label_name_list.append(get_label_from_path(path))"
   ]
  },
  {
   "cell_type": "code",
   "execution_count": 14,
   "metadata": {},
   "outputs": [
    {
     "data": {
      "text/plain": [
       "array([0, 1, 2, 3, 4, 5, 6, 7, 8, 9])"
      ]
     },
     "execution_count": 14,
     "metadata": {},
     "output_type": "execute_result"
    }
   ],
   "source": [
    "unique_label_names = np.unique(label_name_list)\n",
    "unique_label_names"
   ]
  },
  {
   "cell_type": "code",
   "execution_count": 15,
   "metadata": {},
   "outputs": [],
   "source": [
    "def onehot_encode_label(path):\n",
    "    onehot_label = unique_label_names == get_label_from_path(path)\n",
    "    onehot_label = onehot_label.astype(np.uint8)\n",
    "    return onehot_label"
   ]
  },
  {
   "cell_type": "code",
   "execution_count": 16,
   "metadata": {},
   "outputs": [
    {
     "data": {
      "text/plain": [
       "array([0, 0, 0, 0, 0, 0, 0, 0, 0, 1], dtype=uint8)"
      ]
     },
     "execution_count": 16,
     "metadata": {},
     "output_type": "execute_result"
    }
   ],
   "source": [
    "onehot_encode_label(path)"
   ]
  },
  {
   "cell_type": "code",
   "execution_count": 17,
   "metadata": {},
   "outputs": [
    {
     "data": {
      "text/plain": [
       "((28, 28, 1), array([0, 0, 0, 0, 0, 0, 0, 0, 0, 1], dtype=uint8))"
      ]
     },
     "execution_count": 17,
     "metadata": {},
     "output_type": "execute_result"
    }
   ],
   "source": [
    "# 이미지 읽고(array로 열면 너무 크기 때문에 여기선 shape로 확인), onehot_label 확인\n",
    "read_image(path).shape, onehot_encode_label(path)"
   ]
  },
  {
   "cell_type": "markdown",
   "metadata": {},
   "source": [
    "## Batch Data 만들기  \n",
    "앞에 Image를 부르고, onehot_enocding도 했으니 이걸로 batch 만들기  \n",
    "\n",
    "방법.1  \n",
    "- Empty Array 를 만들고 그 Array에 이미지 한장 한장 채운다 \n",
    "\n",
    "방법. 2  \n",
    "- 이미지 한장 한장씩 Batch Size 만큼 붙여 간다 (concatenation)"
   ]
  },
  {
   "cell_type": "code",
   "execution_count": 21,
   "metadata": {},
   "outputs": [
    {
     "data": {
      "text/plain": [
       "(28, 28)"
      ]
     },
     "execution_count": 21,
     "metadata": {},
     "output_type": "execute_result"
    }
   ],
   "source": [
    "image.shape"
   ]
  },
  {
   "cell_type": "code",
   "execution_count": 29,
   "metadata": {},
   "outputs": [],
   "source": [
    "# Hyper Parameter \n",
    "batch_size = 64\n",
    "data_height = 28\n",
    "data_width = 28\n",
    "channel_n = 1\n",
    "\n",
    "num_classes = 10"
   ]
  },
  {
   "cell_type": "markdown",
   "metadata": {},
   "source": [
    "### 방법. 1 - Empty Array를 만들고 채워가는 방법"
   ]
  },
  {
   "cell_type": "code",
   "execution_count": 53,
   "metadata": {},
   "outputs": [],
   "source": [
    "batch_image = np.zeros((batch_size, data_height, data_width, channel_n))\n",
    "batch_label = np.zeros((batch_size, num_classes))"
   ]
  },
  {
   "cell_type": "code",
   "execution_count": 54,
   "metadata": {
    "scrolled": true
   },
   "outputs": [
    {
     "data": {
      "text/plain": [
       "((64, 28, 28, 1), (64, 10))"
      ]
     },
     "execution_count": 54,
     "metadata": {},
     "output_type": "execute_result"
    }
   ],
   "source": [
    "batch_image.shape, batch_label.shape"
   ]
  },
  {
   "cell_type": "code",
   "execution_count": 55,
   "metadata": {},
   "outputs": [],
   "source": [
    "# 간단한 batch data 만들기\n",
    "for n, path in enumerate(data_list[:batch_size]):\n",
    "    image = read_image(path)\n",
    "    onehot_label = onehot_encode_label(path)\n",
    "    batch_image[n, :, :, :] = image\n",
    "    batch_label[n, :] = onehot_label"
   ]
  },
  {
   "cell_type": "code",
   "execution_count": 56,
   "metadata": {},
   "outputs": [
    {
     "data": {
      "text/plain": [
       "((64, 28, 28, 1), (64, 10))"
      ]
     },
     "execution_count": 56,
     "metadata": {},
     "output_type": "execute_result"
    }
   ],
   "source": [
    "batch_image.shape, batch_label.shape"
   ]
  },
  {
   "cell_type": "code",
   "execution_count": 57,
   "metadata": {},
   "outputs": [
    {
     "data": {
      "image/png": "[encoded data removed]",
      "text/plain": [
       "<matplotlib.figure.Figure at 0x1df2c79d6a0>"
      ]
     },
     "metadata": {},
     "output_type": "display_data"
    }
   ],
   "source": [
    "test_n = 0\n",
    "plt.title(batch_label[test_n])\n",
    "plt.imshow(batch_image[test_n, :, :, 0])\n",
    "plt.show()"
   ]
  },
  {
   "cell_type": "markdown",
   "metadata": {},
   "source": [
    "### 방법.2 - 이미지 한장씩 batch size 만큼 붙여가는 방법"
   ]
  },
  {
   "cell_type": "code",
   "execution_count": 58,
   "metadata": {},
   "outputs": [],
   "source": [
    "for n, path in enumerate(data_list[:batch_size]):\n",
    "    image = read_image(path)\n",
    "    label = onehot_encode_label(path)\n",
    "    \n",
    "    # 맨 처음에만 image를 그대로 batch_image로 선언 해주고, \n",
    "    # 후에는 concatenate로 겹쳐준다. \n",
    "    if n == 0:\n",
    "        batch_image = np.array([image])  # 그냥 image는 (28, 28, 1) 의 모양을 가지고 있기 때문에\n",
    "        batch_label = np.array([label])  # (1, 28, 28, 1)의 새로운 차원을 얻기 위해 np.array([])를 씌운다.\n",
    "    else:\n",
    "        batch_image = np.concatenate((batch_image, [image]))\n",
    "        batch_label = np.concatenate((batch_label, [label]))\n",
    "    \n",
    "    # C와의 차이점은 batch_image는 for문이 끝나고서도 메모리가 안 없어진다. "
   ]
  },
  {
   "cell_type": "code",
   "execution_count": 60,
   "metadata": {},
   "outputs": [
    {
     "data": {
      "text/plain": [
       "((28, 28, 1), (1, 28, 28, 1))"
      ]
     },
     "execution_count": 60,
     "metadata": {},
     "output_type": "execute_result"
    }
   ],
   "source": [
    "image.shape, np.array([image]).shape"
   ]
  },
  {
   "cell_type": "code",
   "execution_count": 61,
   "metadata": {},
   "outputs": [
    {
     "data": {
      "text/plain": [
       "((64, 28, 28, 1), (64, 10))"
      ]
     },
     "execution_count": 61,
     "metadata": {},
     "output_type": "execute_result"
    }
   ],
   "source": [
    "batch_image.shape, batch_label.shape"
   ]
  },
  {
   "cell_type": "markdown",
   "metadata": {},
   "source": [
    "## Generate Batch Data"
   ]
  },
  {
   "cell_type": "markdown",
   "metadata": {},
   "source": [
    "1. data_list에서 맨 처음에 batch_size 만큼 batch_data를 가져온다. \n",
    "2. 그 다음부터 step 마다 전 step의 batch 다음의 batch 가져와야 한다. \n",
    "\n",
    "예로 step이 0일 때는 slice 0 부터 31까지 가져와야 한다.  \n",
    "그 다음 step이 1 일 때는 slice 32부터 63까지 가져와야 한다. "
   ]
  },
  {
   "cell_type": "code",
   "execution_count": 25,
   "metadata": {},
   "outputs": [],
   "source": [
    "batch_per_epoch = batch_size // len(data_list)\n",
    "\n",
    "# for epoch in range(epoch_n):\n",
    "#     np.random.shuffle(data_list)\n",
    "    \n",
    "#     for step in range(batch_per_epoch):\n",
    "#         batch_image = data_list[step * batch_size : (step + 1) * batch_size]\n",
    "#         sess.run(train_op, feed_dict={input_image: batch_image})"
   ]
  },
  {
   "cell_type": "markdown",
   "metadata": {},
   "source": [
    "# Generate batch data with tf.data"
   ]
  },
  {
   "cell_type": "markdown",
   "metadata": {},
   "source": [
    "https://www.tensorflow.org/programmers_guide/datasets"
   ]
  },
  {
   "cell_type": "code",
   "execution_count": 62,
   "metadata": {},
   "outputs": [
    {
     "name": "stderr",
     "output_type": "stream",
     "text": [
      "C:\\Users\\blue_\\Anaconda3\\lib\\site-packages\\h5py\\__init__.py:36: FutureWarning: Conversion of the second argument of issubdtype from `float` to `np.floating` is deprecated. In future, it will be treated as `np.float64 == np.dtype(float).type`.\n",
      "  from ._conv import register_converters as _register_converters\n"
     ]
    }
   ],
   "source": [
    "import tensorflow as tf"
   ]
  },
  {
   "cell_type": "code",
   "execution_count": 63,
   "metadata": {},
   "outputs": [],
   "source": [
    "def _read_py_function(path, label):\n",
    "    image = read_image(path)\n",
    "    label = np.array(label, dtype=np.uint8)\n",
    "    return image.astype(np.int32), label\n",
    "\n",
    "def _resize_function(image_decoded, label):\n",
    "    image_decoded.set_shape([None, None, None])\n",
    "    image_resized = tf.image.resize_images(image_decoded, [28, 28])\n",
    "    return image_resized, label"
   ]
  },
  {
   "cell_type": "code",
   "execution_count": 64,
   "metadata": {},
   "outputs": [],
   "source": [
    "# label을 array 통채로 넣는게 아니고, list 화 시켜서 하나씩 넣기 위해 list로 바꿔주었다. \n",
    "label_list = [onehot_encode_label(path).tolist() for path in data_list]"
   ]
  },
  {
   "cell_type": "code",
   "execution_count": 72,
   "metadata": {},
   "outputs": [
    {
     "data": {
      "text/plain": [
       "('data\\\\mnist_png\\\\training\\\\0\\\\1.png', [1, 0, 0, 0, 0, 0, 0, 0, 0, 0])"
      ]
     },
     "execution_count": 72,
     "metadata": {},
     "output_type": "execute_result"
    }
   ],
   "source": [
    "data_list[0], label_list[0]"
   ]
  },
  {
   "cell_type": "code",
   "execution_count": 70,
   "metadata": {},
   "outputs": [
    {
     "data": {
      "text/plain": [
       "<TensorSliceDataset shapes: ((), (10,)), types: (tf.string, tf.int32)>"
      ]
     },
     "execution_count": 70,
     "metadata": {},
     "output_type": "execute_result"
    }
   ],
   "source": [
    "dataset = tf.data.Dataset.from_tensor_slices((data_list, label_list))\n",
    "dataset = dataset.map(\n",
    "    lambda data_list, label_list: tuple(tf.py_func(_read_py_function, [data_list, label_list], [tf.int32, tf.uint8])))"
   ]
  },
  {
   "cell_type": "code",
   "execution_count": 76,
   "metadata": {
    "scrolled": false
   },
   "outputs": [],
   "source": [
    "dataset = tf.data.Dataset.from_tensor_slices((data_list, label_list))\n",
    "dataset = dataset.map(\n",
    "    lambda data_list, label_list: tuple(tf.py_func(_read_py_function, [data_list, label_list], [tf.int32, tf.uint8])))\n",
    "\n",
    "# 만약 tfrecords를 불러오는 경우\n",
    "# dataset = tf.data.TFRecordDataset(data_list)\n",
    "\n",
    "# Transform 방법들을 넣을 수 있다. (resize, crop)\n",
    "dataset = dataset.map(_resize_function)\n",
    "dataset = dataset.repeat()\n",
    "dataset = dataset.shuffle(buffer_size=(int(len(data_list) * 0.4) + 3 * batch_size))\n",
    "dataset = dataset.batch(batch_size)"
   ]
  },
  {
   "cell_type": "code",
   "execution_count": 77,
   "metadata": {},
   "outputs": [],
   "source": [
    "iterator = dataset.make_initializable_iterator()\n",
    "image_stacked, label_stacked = iterator.get_next()"
   ]
  },
  {
   "cell_type": "code",
   "execution_count": 78,
   "metadata": {},
   "outputs": [
    {
     "data": {
      "image/png": "[encoded data removed]",
      "text/plain": [
       "<matplotlib.figure.Figure at 0x1df360e2390>"
      ]
     },
     "metadata": {},
     "output_type": "display_data"
    }
   ],
   "source": [
    "# next_element = iterator.get_next()\n",
    "\n",
    "with tf.Session() as sess:\n",
    "    sess.run(iterator.initializer)\n",
    "    \n",
    "    image, label = sess.run([image_stacked, label_stacked])\n",
    "\n",
    "plt.title(label[0])\n",
    "plt.imshow(image[0, :, :, 0])\n",
    "plt.show()"
   ]
  },
  {
   "cell_type": "code",
   "execution_count": 80,
   "metadata": {},
   "outputs": [
    {
     "data": {
      "text/plain": [
       "<tf.Tensor 'IteratorGetNext_1:0' shape=(?, 28, 28, ?) dtype=float32>"
      ]
     },
     "execution_count": 80,
     "metadata": {},
     "output_type": "execute_result"
    }
   ],
   "source": [
    "image_stacked"
   ]
  },
  {
   "cell_type": "code",
   "execution_count": 79,
   "metadata": {},
   "outputs": [
    {
     "data": {
      "text/plain": [
       "((64, 28, 28, 1), (64, 10))"
      ]
     },
     "execution_count": 79,
     "metadata": {},
     "output_type": "execute_result"
    }
   ],
   "source": [
    "image.shape, label.shape"
   ]
  }
 ],
 "metadata": {
  "kernelspec": {
   "display_name": "Python 3",
   "language": "python",
   "name": "python3"
  },
  "language_info": {
   "codemirror_mode": {
    "name": "ipython",
    "version": 3
   },
   "file_extension": ".py",
   "mimetype": "text/x-python",
   "name": "python",
   "nbconvert_exporter": "python",
   "pygments_lexer": "ipython3",
   "version": "3.6.4"
  }
 },
 "nbformat": 4,
 "nbformat_minor": 2
}
